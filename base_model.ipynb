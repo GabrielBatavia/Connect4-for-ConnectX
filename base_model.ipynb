{
 "cells": [
  {
   "metadata": {},
   "cell_type": "markdown",
   "source": "Cell 1: Import Libraries",
   "id": "98e7f31d51ce854a"
  },
  {
   "cell_type": "code",
   "id": "initial_id",
   "metadata": {
    "collapsed": true,
    "ExecuteTime": {
     "end_time": "2024-09-09T00:57:37.810433Z",
     "start_time": "2024-09-09T00:57:37.804507Z"
    }
   },
   "source": [
    "# Import required libraries\n",
    "import numpy as np\n",
    "import random\n",
    "import matplotlib.pyplot as plt\n",
    "from kaggle_environments import make, evaluate\n"
   ],
   "outputs": [],
   "execution_count": 6
  },
  {
   "metadata": {},
   "cell_type": "markdown",
   "source": "Cell 2: Define Game Logic (Base Model)",
   "id": "58a3581c20b682e1"
  },
  {
   "metadata": {
    "ExecuteTime": {
     "end_time": "2024-09-09T00:57:38.169248Z",
     "start_time": "2024-09-09T00:57:38.154439Z"
    }
   },
   "cell_type": "code",
   "source": [
    "# The board size\n",
    "ROW_COUNT = 6\n",
    "COLUMN_COUNT = 7\n",
    "\n",
    "def create_board():\n",
    "    \"\"\"Create a 6*7 board\"\"\"\n",
    "    board = np.zeros((ROW_COUNT, COLUMN_COUNT))\n",
    "    return board\n",
    "\n",
    "def drop_piece(board, row, col, piece):\n",
    "    \"\"\"Places a piece on the board\"\"\"\n",
    "    board[row][col] = piece\n",
    "\n",
    "def is_valid_location(board, col):\n",
    "    \"\"\"Checks if the board is valid\"\"\"\n",
    "    return board[ROW_COUNT - 1][col] == 0\n",
    "\n",
    "def get_next_open_row(board, col):\n",
    "    \"\"\"Finds the next open row in the column\"\"\"\n",
    "    for r in range(ROW_COUNT):\n",
    "        if board[r][col] == 0:\n",
    "            return r\n",
    "\n",
    "def winning_move(board, piece):\n",
    "    \"\"\"Checks if a player has won\"\"\"\n",
    "    # Check horizontal locations for win\n",
    "    for c in range(COLUMN_COUNT - 3):\n",
    "        for r in range(ROW_COUNT):\n",
    "            if board[r][c] == piece and board[r][c + 1] == piece and board[r][c + 2] == piece and board[r][c + 3] == piece:\n",
    "                return True\n",
    "\n",
    "    # Check vertical locations for win\n",
    "    for c in range(COLUMN_COUNT):\n",
    "        for r in range(ROW_COUNT - 3):\n",
    "            if board[r][c] == piece and board[r + 1][c] == piece and board[r + 2][c] == piece and board[r + 3][c] == piece:\n",
    "                return True\n",
    "\n",
    "    # Check diagonals\n",
    "    for c in range(COLUMN_COUNT - 3):\n",
    "        for r in range(ROW_COUNT - 3):\n",
    "            if board[r][c] == piece and board[r + 1][c + 1] == piece and board[r + 2][c + 2] == piece and board[r + 3][c + 3] == piece:\n",
    "                return True\n",
    "\n",
    "    for c in range(COLUMN_COUNT - 3):\n",
    "        for r in range(3, ROW_COUNT):\n",
    "            if board[r][c] == piece and board[r - 1][c + 1] == piece and board[r - 2][c + 2] == piece and board[r - 3][c + 3] == piece:\n",
    "                return True\n"
   ],
   "id": "a1e5689e170c16e",
   "outputs": [],
   "execution_count": 7
  },
  {
   "metadata": {},
   "cell_type": "markdown",
   "source": "Cell 3: Visualization for Local Environment",
   "id": "d7bbf05f755c4a7"
  },
  {
   "metadata": {
    "ExecuteTime": {
     "end_time": "2024-09-09T00:57:38.585191Z",
     "start_time": "2024-09-09T00:57:38.578158Z"
    }
   },
   "cell_type": "code",
   "source": [
    "def draw_board(board):\n",
    "    \"\"\"Draws the board using matplotlib\"\"\"\n",
    "    plt.imshow(np.flip(board, 0), cmap='coolwarm', interpolation='nearest')\n",
    "    plt.title('Connect 4 Board')\n",
    "    plt.xticks(range(COLUMN_COUNT))\n",
    "    plt.yticks(range(ROW_COUNT))\n",
    "    plt.show()\n",
    "\n",
    "def print_board(board):\n",
    "    \"\"\"Flips the board so the bottom row is at the bottom when visualizing\"\"\"\n",
    "    print(np.flip(board, 0))\n"
   ],
   "id": "96ebe7327bf629ab",
   "outputs": [],
   "execution_count": 8
  },
  {
   "metadata": {},
   "cell_type": "markdown",
   "source": "Cell 4: Local Game Simulation",
   "id": "edab717cfb8d05d7"
  },
  {
   "metadata": {
    "ExecuteTime": {
     "end_time": "2024-09-09T00:57:39.618449Z",
     "start_time": "2024-09-09T00:57:39.478722Z"
    }
   },
   "cell_type": "code",
   "source": [
    "def play_game_local():\n",
    "    \"\"\"Main function for local simulation\"\"\"\n",
    "    board = create_board()\n",
    "    game_over = False\n",
    "    turn = 0\n",
    "\n",
    "    while not game_over:\n",
    "        col = random.randint(0, COLUMN_COUNT - 1)\n",
    "        if is_valid_location(board, col):\n",
    "            row = get_next_open_row(board, col)\n",
    "            drop_piece(board, row, col, turn + 1)\n",
    "            if winning_move(board, turn + 1):\n",
    "                print(f\"Player {turn + 1} wins!\")\n",
    "                game_over = True\n",
    "\n",
    "        turn += 1\n",
    "        turn = turn % 2\n",
    "\n",
    "    print_board(board)\n",
    "    draw_board(board)\n",
    "\n",
    "# Uncomment to play a local game\n",
    "play_game_local()"
   ],
   "id": "7d0c2c59685a7f56",
   "outputs": [
    {
     "name": "stdout",
     "output_type": "stream",
     "text": [
      "Player 2 wins!\n",
      "[[0. 0. 0. 0. 2. 0. 0.]\n",
      " [0. 1. 0. 0. 1. 0. 0.]\n",
      " [0. 2. 0. 0. 2. 0. 0.]\n",
      " [0. 1. 2. 1. 2. 0. 0.]\n",
      " [0. 1. 1. 2. 1. 0. 0.]\n",
      " [1. 1. 2. 2. 2. 0. 1.]]\n"
     ]
    },
    {
     "data": {
      "text/plain": [
       "<Figure size 640x480 with 1 Axes>"
      ],
      "image/png": "[encoded data removed]"
     },
     "metadata": {},
     "output_type": "display_data"
    }
   ],
   "execution_count": 9
  },
  {
   "metadata": {},
   "cell_type": "markdown",
   "source": "Cell 5: Kaggle Agent Logic",
   "id": "739ab455e0addf46"
  },
  {
   "metadata": {
    "ExecuteTime": {
     "end_time": "2024-09-09T00:57:40.357903Z",
     "start_time": "2024-09-09T00:57:40.334457Z"
    }
   },
   "cell_type": "code",
   "source": [
    "# Kaggle environment setup\n",
    "env = make(\"connectx\", debug=True)\n",
    "\n",
    "def kaggle_agent(obs, conf):\n",
    "    \"\"\"A sample agent for ConnectX in Kaggle\"\"\"\n",
    "    valid_moves = [col for col in range(conf.columns) if obs.board[col] == 0]\n",
    "    return random.choice(valid_moves)\n"
   ],
   "id": "2271f8bf481d35ae",
   "outputs": [],
   "execution_count": 10
  },
  {
   "metadata": {},
   "cell_type": "markdown",
   "source": "Cell 6: Play Game in Kaggle Environment",
   "id": "6c02bdec78e0ca86"
  },
  {
   "metadata": {
    "ExecuteTime": {
     "end_time": "2024-09-09T00:58:34.882635Z",
     "start_time": "2024-09-09T00:58:34.319374Z"
    }
   },
   "cell_type": "code",
   "source": [
    "def play_game_kaggle():\n",
    "    \"\"\"Play game in Kaggle environment\"\"\"\n",
    "    env.render()\n",
    "    trainer = env.train([None, \"negamax\"])  # Use Negamax agent as the opponent\n",
    "    observation = trainer.reset()\n",
    "    while not env.done:\n",
    "        action = kaggle_agent(observation, env.configuration)\n",
    "        observation, reward, done, info = trainer.step(action)\n",
    "        env.render()\n",
    "        \n",
    "\n",
    "# Uncomment to play in Kaggle environment\n",
    "play_game_kaggle()\n"
   ],
   "id": "c18c54b8730e6281",
   "outputs": [],
   "execution_count": 15
  },
  {
   "metadata": {},
   "cell_type": "markdown",
   "source": "Cell 7: Training and Evaluation in Kaggle Environment",
   "id": "1c9771eca2a43f48"
  },
  {
   "metadata": {
    "ExecuteTime": {
     "end_time": "2024-09-09T00:57:50.033012Z",
     "start_time": "2024-09-09T00:57:43.479357Z"
    }
   },
   "cell_type": "code",
   "source": [
    "def mean_reward(rewards):\n",
    "    return \"won {0} of {1}\".format(sum(r[0] for r in rewards), len(rewards))\n",
    "\n",
    "# Run multiple episodes to estimate its performance.\n",
    "print(\"My Agent vs Random Agent:\", mean_reward(evaluate(\"connectx\", [kaggle_agent, \"random\"], num_episodes=10)))\n",
    "print(\"My Agent vs Negamax Agent:\", mean_reward(evaluate(\"connectx\", [kaggle_agent, \"negamax\"], num_episodes=10)))\n"
   ],
   "id": "11f997d0d93a9561",
   "outputs": [
    {
     "name": "stdout",
     "output_type": "stream",
     "text": [
      "My Agent vs Random Agent: won 0 of 10\n",
      "My Agent vs Negamax Agent: won -10 of 10\n"
     ]
    }
   ],
   "execution_count": 12
  },
  {
   "metadata": {},
   "cell_type": "code",
   "outputs": [],
   "execution_count": null,
   "source": "",
   "id": "d204ffa41d41fc47"
  }
 ],
 "metadata": {
  "kernelspec": {
   "display_name": "Python 3",
   "language": "python",
   "name": "python3"
  },
  "language_info": {
   "codemirror_mode": {
    "name": "ipython",
    "version": 2
   },
   "file_extension": ".py",
   "mimetype": "text/x-python",
   "name": "python",
   "nbconvert_exporter": "python",
   "pygments_lexer": "ipython2",
   "version": "2.7.6"
  }
 },
 "nbformat": 4,
 "nbformat_minor": 5
}
